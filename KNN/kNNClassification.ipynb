{
 "cells": [
  {
   "cell_type": "markdown",
   "metadata": {},
   "source": [
    "Exercise 1: Implement K-Nearest Neighbor"
   ]
  },
  {
   "cell_type": "code",
   "execution_count": 1,
   "metadata": {},
   "outputs": [
    {
     "name": "stdout",
     "output_type": "stream",
     "text": [
      "    sLength sWidth pLength pWidth           class\n",
      "145     6.7    3.0     5.2    2.3  Iris-virginica\n",
      "146     6.3    2.5     5.0    1.9  Iris-virginica\n",
      "147     6.5    3.0     5.2    2.0  Iris-virginica\n",
      "148     6.2    3.4     5.4    2.3  Iris-virginica\n",
      "149     5.9    3.0     5.1    1.8  Iris-virginica\n"
     ]
    }
   ],
   "source": [
    "#Load the data using pandas\n",
    "#Import all the required packages\n",
    "import pandas as pd\n",
    "import numpy as np\n",
    "import io\n",
    "import requests\n",
    "import matplotlib.pyplot as plt\n",
    "\n",
    "#Reading the content from the HTML page using requests package\n",
    "url = \"https://archive.ics.uci.edu/ml/machine-learning-databases/iris/iris.data\"\n",
    "data = requests.get(url).content\n",
    "\n",
    "#Splitting the data into rows and columns\n",
    "cleanedData = data.decode('utf-8').split('\\n')\n",
    "rowsAndColumns = [each.split(',') for each in cleanedData]\n",
    "\n",
    "#Adding a header to the data\n",
    "header = ['sLength','sWidth','pLength','pWidth','class']\n",
    "#The final dataframe\n",
    "df = pd.DataFrame(rowsAndColumns, columns = header)\n",
    "df = df.loc[0:149,:]\n",
    "\n",
    "print(df.tail())\n",
    "#df.to_csv('Iris.csv')"
   ]
  },
  {
   "cell_type": "code",
   "execution_count": 2,
   "metadata": {},
   "outputs": [
    {
     "name": "stdout",
     "output_type": "stream",
     "text": [
      "          sLength      sWidth     pLength      pWidth\n",
      "count  150.000000  150.000000  150.000000  150.000000\n",
      "mean     5.843333    3.054000    3.758667    1.198667\n",
      "std      0.828066    0.433594    1.764420    0.763161\n",
      "min      4.300000    2.000000    1.000000    0.100000\n",
      "25%      5.100000    2.800000    1.600000    0.300000\n",
      "50%      5.800000    3.000000    4.350000    1.300000\n",
      "75%      6.400000    3.300000    5.100000    1.800000\n",
      "max      7.900000    4.400000    6.900000    2.500000\n"
     ]
    }
   ],
   "source": [
    "#Converting values ro numeric\n",
    "numeric = ['sLength','sWidth','pLength','pWidth']\n",
    "for each in numeric:\n",
    "    df[each] = df[each].astype('float')\n",
    "print(df.describe())"
   ]
  },
  {
   "cell_type": "code",
   "execution_count": 3,
   "metadata": {},
   "outputs": [
    {
     "name": "stdout",
     "output_type": "stream",
     "text": [
      "NA's present :  False\n"
     ]
    }
   ],
   "source": [
    "#Checking for na values in any rows\n",
    "print(\"NA's present : \",df.isnull().any().any())"
   ]
  },
  {
   "cell_type": "code",
   "execution_count": 4,
   "metadata": {},
   "outputs": [],
   "source": [
    "#Train/Test split\n",
    "from sklearn.model_selection import train_test_split\n",
    "\n",
    "x = df.loc[:,df.columns != 'class']\n",
    "y = df.loc[:,df.columns == 'class']\n",
    "\n",
    "xTrain, xTest, yTrain, yTest = train_test_split(x, y, test_size=0.30, random_state=15)\n",
    "\n",
    "#Used for cross validation\n",
    "train = pd.concat([xTrain, yTrain], axis=1)\n",
    "test = pd.concat([xTest, yTest], axis=1)"
   ]
  },
  {
   "cell_type": "code",
   "execution_count": 5,
   "metadata": {},
   "outputs": [],
   "source": [
    "#Euclidean distance\n",
    "def distance(xTrain,yTrain,xTest):\n",
    "    dist,Class = [],[]\n",
    "    for i in range(len(xTrain)):\n",
    "        x = np.array(xTrain.iloc[i])\n",
    "        y = np.array(yTrain.iloc[i])\n",
    "        temp = float(np.sqrt(np.square(x-xTest).sum()))\n",
    "        dist.append(temp)\n",
    "        Class.append(str(y))\n",
    "    result = pd.DataFrame({'dist': dist,'class':Class})\n",
    "    return(result)"
   ]
  },
  {
   "cell_type": "code",
   "execution_count": 6,
   "metadata": {},
   "outputs": [],
   "source": [
    "#K Nearest Neighbors\n",
    "def nearestNeighbor(xTrain,yTrain,xTest,k):\n",
    "    predicted = []\n",
    "    for i in range(len(xTest)):\n",
    "        xNew = np.array(xTest.iloc[i])\n",
    "        dis = distance(xTrain,yTrain,xNew)\n",
    "        dis = dis.sort_values(by='dist', ascending=1)\n",
    "        knn = dis[:k]\n",
    "        classPredicted = (knn['class'].value_counts()).sort_values(ascending=False)\n",
    "        predicted.append(classPredicted.idxmax())\n",
    "    return(predicted)"
   ]
  },
  {
   "cell_type": "code",
   "execution_count": 7,
   "metadata": {},
   "outputs": [],
   "source": [
    "def accuracy(predicted,yTest):\n",
    "    predictedNew = []\n",
    "    #Cleaning predicted values\n",
    "    for each in predicted:\n",
    "        each = each.split(\"'\")\n",
    "        predictedNew.append(each[1])\n",
    "    \n",
    "    yTestNew = yTest['class'].tolist()\n",
    "    total = len(yTestNew)\n",
    "    true,false = 0,0\n",
    "    \n",
    "    #Comparing predicted to yTest to compute accuracy\n",
    "    for each,every in zip(yTestNew,predictedNew):\n",
    "        if each == every:\n",
    "            true += 1\n",
    "    return(float(true/total))"
   ]
  },
  {
   "cell_type": "code",
   "execution_count": 8,
   "metadata": {},
   "outputs": [
    {
     "name": "stdout",
     "output_type": "stream",
     "text": [
      "Accuracy for 2 nearest neighbor is  0.9777777777777777\n"
     ]
    }
   ],
   "source": [
    "#Calling kNN function and computing accuracy\n",
    "predicted = nearestNeighbor(xTrain,yTrain,xTest,2)\n",
    "accu = accuracy(predicted,yTest)\n",
    "print(\"Accuracy for 2 nearest neighbor is \",accu)"
   ]
  },
  {
   "cell_type": "markdown",
   "metadata": {},
   "source": [
    "Exercise 2: Optimize and Compare KNN algorithm"
   ]
  },
  {
   "cell_type": "markdown",
   "metadata": {},
   "source": [
    "Part A : Determine Optimal Value of K in KNN algorithm"
   ]
  },
  {
   "cell_type": "code",
   "execution_count": 9,
   "metadata": {},
   "outputs": [
    {
     "name": "stdout",
     "output_type": "stream",
     "text": [
      "[ 1  3  5  7  9 11 13 15 17 19 21 23 25 27 29 31 33 35 37 39 41 43 45 47 49]\n"
     ]
    }
   ],
   "source": [
    "#defining grid values for k\n",
    "kGrid = np.arange(1,50,2)\n",
    "print(kGrid)"
   ]
  },
  {
   "cell_type": "code",
   "execution_count": 10,
   "metadata": {},
   "outputs": [],
   "source": [
    "#returns the test and train data for each fold of cross validation\n",
    "def cvTestTrain(trainA,testFold,totalFolds):\n",
    "    trainCv = pd.DataFrame([])\n",
    "    testCv = pd.DataFrame([])\n",
    "    #Extracting column names\n",
    "    cols = trainA.columns.values\n",
    "    #Removing colunm names\n",
    "    trainA.columns = [''] * len(trainA.columns)\n",
    "    #Data split to folds\n",
    "    batch = np.array_split(trainA,totalFolds)\n",
    "    key = 1\n",
    "    trainDict = {}\n",
    "    #Creating the test fold\n",
    "    for each in batch:\n",
    "        trainDict[key] = each\n",
    "        key = key + 1\n",
    "    testCv = trainDict[testFold]\n",
    "    testCv.columns = cols\n",
    "    #Creating train fold\n",
    "    for key in range(1,6):\n",
    "        if(key != testFold):\n",
    "            trainCv = trainCv.append(trainDict[key])\n",
    "    #Adding the column names to merged train datset\n",
    "    trainCv.columns = cols\n",
    "    return(trainCv,testCv)"
   ]
  },
  {
   "cell_type": "code",
   "execution_count": 11,
   "metadata": {},
   "outputs": [],
   "source": [
    "#CrossValidation\n",
    "def cv(trainCvalid,kGrid,totalFolds):\n",
    "    k,acc = [],[]\n",
    "    for eachK in kGrid:\n",
    "        k.append(eachK)\n",
    "        eachFoldAccuracy = []\n",
    "        for each in range(1,totalFolds+1):\n",
    "            trainC = trainCvalid.copy()\n",
    "            trainCv,testCv = cvTestTrain(trainC,each,totalFolds)\n",
    "            xTrain = trainCv.loc[:,testCv.columns != 'class']\n",
    "            yTrain = trainCv.loc[:,testCv.columns == 'class']\n",
    "            xTest = testCv.loc[:,testCv.columns != 'class']\n",
    "            yTest = testCv.loc[:,testCv.columns == 'class']\n",
    "            predicted = nearestNeighbor(xTrain,yTrain,xTest,eachK)\n",
    "            accu = accuracy(predicted,yTest)\n",
    "            eachFoldAccuracy.append(accu)\n",
    "        temp = (np.mean(eachFoldAccuracy))\n",
    "        acc.append(float(temp))\n",
    "    return(k,acc)"
   ]
  },
  {
   "cell_type": "code",
   "execution_count": 12,
   "metadata": {},
   "outputs": [],
   "source": [
    "#Computing optimal k-fold value with cross-validation\n",
    "k1,accuracy1 = cv(train,kGrid,5)   "
   ]
  },
  {
   "cell_type": "code",
   "execution_count": 13,
   "metadata": {},
   "outputs": [],
   "source": [
    "#Storing result in df\n",
    "result = pd.DataFrame(\n",
    "    {'k': k1,\n",
    "     'acc': accuracy1\n",
    "    })"
   ]
  },
  {
   "cell_type": "code",
   "execution_count": 14,
   "metadata": {},
   "outputs": [
    {
     "name": "stdout",
     "output_type": "stream",
     "text": [
      "Optimal k value is  15.0\n"
     ]
    },
    {
     "data": {
      "image/png": "[encoded data removed]",
      "text/plain": [
       "<matplotlib.figure.Figure at 0x7f65c6272828>"
      ]
     },
     "metadata": {},
     "output_type": "display_data"
    }
   ],
   "source": [
    "#Plotting the k vs Accuracy\n",
    "plt.plot(result['k'],result['acc'],color = 'b',label = \"Accuracy\")\n",
    "#Optimal k-value with max accuracy\n",
    "optimal = result.iloc[result['acc'].idxmax()]\n",
    "kOptimal = optimal['k']\n",
    "accOptimal = optimal['acc']\n",
    "plt.plot(kOptimal,accOptimal,'*',color = 'r',label = \"Maximum\")\n",
    "plt.xlabel('k')\n",
    "plt.ylabel('Accuracy')\n",
    "plt.title('CrossValidation - Accuracy')\n",
    "plt.legend()\n",
    "print(\"Optimal k value is \",kOptimal)\n",
    "plt.show()"
   ]
  },
  {
   "cell_type": "code",
   "execution_count": 15,
   "metadata": {},
   "outputs": [
    {
     "name": "stdout",
     "output_type": "stream",
     "text": [
      "Optimal k value is  15.0\n"
     ]
    },
    {
     "data": {
      "image/png": "[encoded data removed]",
      "text/plain": [
       "<matplotlib.figure.Figure at 0x7f65c6288518>"
      ]
     },
     "metadata": {},
     "output_type": "display_data"
    }
   ],
   "source": [
    "#Plotting the k vs MisClassification Rate\n",
    "result['mis'] = 1 - result['acc']\n",
    "plt.plot(result['k'],result['mis'],color = 'b',label = \"Error\")\n",
    "optimal = result.iloc[result['mis'].idxmin()]\n",
    "kOptimal = optimal['k']\n",
    "accOptimal = optimal['mis']\n",
    "plt.plot(kOptimal,accOptimal,'*',color = 'r',label = \"Maximum\")\n",
    "plt.xlabel('k')\n",
    "plt.ylabel('MisClassification Error')\n",
    "plt.title('CrossValidation - MisClassification Error')\n",
    "plt.legend()\n",
    "print(\"Optimal k value is \",kOptimal)\n",
    "plt.show()"
   ]
  },
  {
   "cell_type": "code",
   "execution_count": 16,
   "metadata": {},
   "outputs": [
    {
     "name": "stdout",
     "output_type": "stream",
     "text": [
      "Accuracy is 0.977778 with 1 folds\n",
      "Accuracy is 0.977778 with 3 folds\n",
      "Accuracy is 0.977778 with 5 folds\n",
      "Accuracy is 0.955556 with 7 folds\n",
      "Accuracy is 0.977778 with 9 folds\n",
      "Accuracy is 1.000000 with 11 folds\n",
      "Accuracy is 1.000000 with 13 folds\n",
      "Accuracy is 1.000000 with 15 folds\n",
      "Accuracy is 1.000000 with 17 folds\n",
      "Accuracy is 1.000000 with 19 folds\n",
      "Accuracy is 0.977778 with 21 folds\n",
      "Accuracy is 1.000000 with 23 folds\n",
      "Accuracy is 0.977778 with 25 folds\n",
      "Accuracy is 0.977778 with 27 folds\n",
      "Accuracy is 0.977778 with 29 folds\n",
      "Accuracy is 0.977778 with 31 folds\n",
      "Accuracy is 0.977778 with 33 folds\n",
      "Accuracy is 1.000000 with 35 folds\n",
      "Accuracy is 0.977778 with 37 folds\n",
      "Accuracy is 0.977778 with 39 folds\n",
      "Accuracy is 0.977778 with 41 folds\n",
      "Accuracy is 0.955556 with 43 folds\n",
      "Accuracy is 0.955556 with 45 folds\n",
      "Accuracy is 0.955556 with 47 folds\n",
      "Accuracy is 0.955556 with 49 folds\n"
     ]
    }
   ],
   "source": [
    "#Comparing accuracy for different k values\n",
    "for k in range(1,50,2):\n",
    "    predicted = nearestNeighbor(xTrain,yTrain,xTest,k)\n",
    "    accu = accuracy(predicted,yTest)\n",
    "    print(\"Accuracy is %f with %d folds\" %(accu,k))"
   ]
  },
  {
   "cell_type": "markdown",
   "metadata": {},
   "source": [
    "Part B : Compare KNN algorithm with Tree based method"
   ]
  },
  {
   "cell_type": "code",
   "execution_count": 18,
   "metadata": {},
   "outputs": [
    {
     "name": "stdout",
     "output_type": "stream",
     "text": [
      "Model summary                  precision    recall  f1-score   support\n",
      "\n",
      "    Iris-setosa       1.00      1.00      1.00        15\n",
      "Iris-versicolor       1.00      0.94      0.97        16\n",
      " Iris-virginica       0.93      1.00      0.97        14\n",
      "\n",
      "    avg / total       0.98      0.98      0.98        45\n",
      "\n",
      "\n",
      "Confusion Matrix [[15  0  0]\n",
      " [ 0 15  1]\n",
      " [ 0  0 14]]\n",
      "\n",
      "Accuracy 0.977777777778\n"
     ]
    }
   ],
   "source": [
    "#Importing packages\n",
    "from sklearn.neighbors import KNeighborsClassifier\n",
    "from sklearn.model_selection import GridSearchCV\n",
    "from sklearn.tree import DecisionTreeClassifier\n",
    "from sklearn.metrics import accuracy_score \n",
    "from sklearn import metrics\n",
    "import warnings\n",
    "\n",
    "#Initialize model\n",
    "knn = KNeighborsClassifier(n_neighbors=3)\n",
    "\n",
    "#Fit data to model\n",
    "knn.fit(xTrain, np.array(yTrain).ravel())\n",
    "\n",
    "#Predicting values for test data\n",
    "expected = yTest\n",
    "predicted = knn.predict(xTest)\n",
    "\n",
    "#Computing accuracy\n",
    "print(\"Model summary\",metrics.classification_report(expected, predicted))\n",
    "print(\"\\nConfusion Matrix\",metrics.confusion_matrix(expected, predicted))\n",
    "print (\"\\nAccuracy\",accuracy_score(expected, predicted))"
   ]
  },
  {
   "cell_type": "code",
   "execution_count": 19,
   "metadata": {},
   "outputs": [
    {
     "name": "stdout",
     "output_type": "stream",
     "text": [
      "DecisionTreeClassifier(class_weight=None, criterion='gini', max_depth=None,\n",
      "            max_features=None, max_leaf_nodes=None,\n",
      "            min_impurity_decrease=0.0, min_impurity_split=None,\n",
      "            min_samples_leaf=1, min_samples_split=2,\n",
      "            min_weight_fraction_leaf=0.0, presort=False, random_state=None,\n",
      "            splitter='best')\n",
      "Model summary                  precision    recall  f1-score   support\n",
      "\n",
      "    Iris-setosa       1.00      1.00      1.00        15\n",
      "Iris-versicolor       0.94      1.00      0.97        16\n",
      " Iris-virginica       1.00      0.93      0.96        14\n",
      "\n",
      "    avg / total       0.98      0.98      0.98        45\n",
      "\n",
      "\n",
      "Confusion Matrix [[15  0  0]\n",
      " [ 0 16  0]\n",
      " [ 0  1 13]]\n",
      "\n",
      "Accuracy 0.977777777778\n"
     ]
    }
   ],
   "source": [
    "#Initializing tree model\n",
    "model = DecisionTreeClassifier()\n",
    "\n",
    "#Fit data\n",
    "model.fit(xTrain, yTrain)\n",
    "print(model)\n",
    "\n",
    "# make predictions\n",
    "expected = yTest\n",
    "predicted = model.predict(xTest)\n",
    "\n",
    "# summarize the fit of the model\n",
    "print(\"Model summary\",metrics.classification_report(expected, predicted))\n",
    "print(\"\\nConfusion Matrix\",metrics.confusion_matrix(expected, predicted))\n",
    "print(\"\\nAccuracy\",accuracy_score(expected, predicted))"
   ]
  },
  {
   "cell_type": "code",
   "execution_count": 20,
   "metadata": {},
   "outputs": [],
   "source": [
    "#Grid search for kNN\n",
    "warnings.filterwarnings(\"ignore\")\n",
    "\n",
    "#Creating a dict with param values\n",
    "parameters1 = {'n_neighbors':kGrid}\n",
    "\n",
    "#Base model\n",
    "knn = KNeighborsClassifier()\n",
    "\n",
    "#CrossValidation\n",
    "grid1 = GridSearchCV(knn,param_grid = parameters1,cv=5,scoring='accuracy')\n",
    "grid1.fit(xTrain, yTrain)\n",
    "\n",
    "resultKnn = pd.DataFrame(grid1.cv_results_)"
   ]
  },
  {
   "cell_type": "code",
   "execution_count": 21,
   "metadata": {},
   "outputs": [
    {
     "data": {
      "image/png": "[encoded data removed]",
      "text/plain": [
       "<matplotlib.figure.Figure at 0x7f65c2d92668>"
      ]
     },
     "metadata": {},
     "output_type": "display_data"
    }
   ],
   "source": [
    "#Plotting values of cv\n",
    "plt.plot(resultKnn['param_n_neighbors'],resultKnn['mean_test_score'],color = 'b',label = \"Train\")\n",
    "plt.plot(resultKnn['param_n_neighbors'],resultKnn['mean_train_score'],color = 'g',label = \"Test\")\n",
    "plt.xlabel('k')\n",
    "plt.ylabel('Accuracy')\n",
    "plt.title('CrossValidation - Accuracy')\n",
    "plt.legend()\n",
    "plt.show()"
   ]
  },
  {
   "cell_type": "code",
   "execution_count": 22,
   "metadata": {},
   "outputs": [
    {
     "name": "stdout",
     "output_type": "stream",
     "text": [
      "Model summary                  precision    recall  f1-score   support\n",
      "\n",
      "    Iris-setosa       1.00      1.00      1.00        15\n",
      "Iris-versicolor       1.00      1.00      1.00        16\n",
      " Iris-virginica       1.00      1.00      1.00        14\n",
      "\n",
      "    avg / total       1.00      1.00      1.00        45\n",
      "\n",
      "\n",
      "Confusion Matrix [[15  0  0]\n",
      " [ 0 16  0]\n",
      " [ 0  0 14]]\n",
      "\n",
      "Accuracy 1.0\n"
     ]
    }
   ],
   "source": [
    "#Fitting train data to best value to k-value\n",
    "a = grid1.best_params_\n",
    "b = a['n_neighbors']\n",
    "\n",
    "knnNew = KNeighborsClassifier(n_neighbors=b)\n",
    "knnNew.fit(xTrain, np.array(yTrain).ravel())\n",
    "\n",
    "expected = yTest\n",
    "predicted = knnNew.predict(xTest)\n",
    "\n",
    "print(\"Model summary\",metrics.classification_report(expected, predicted))\n",
    "print(\"\\nConfusion Matrix\",metrics.confusion_matrix(expected, predicted))\n",
    "print (\"\\nAccuracy\",accuracy_score(expected, predicted))"
   ]
  },
  {
   "cell_type": "code",
   "execution_count": 23,
   "metadata": {},
   "outputs": [],
   "source": [
    "#Grid search for decision tree\n",
    "parameters2 = {\"criterion\": [\"gini\", \"entropy\"],\n",
    "              \"min_samples_split\": [2, 5, 10, 15, 20, 25, 30, 40, 50],\n",
    "              \"max_depth\": [None, 2, 5, 10, 15, 20, 25, 30, 40, 50],\n",
    "              \"min_samples_leaf\": [1, 5, 10, 15, 20],\n",
    "              \"max_leaf_nodes\": [None, 5, 10, 20, 30, 40, 50],\n",
    "              }\n",
    "\n",
    "#Base model\n",
    "treeNew = DecisionTreeClassifier()\n",
    "\n",
    "#cv\n",
    "grid2 = GridSearchCV(treeNew,param_grid = parameters2,cv=7,scoring='accuracy')\n",
    "grid2.fit(xTrain, yTrain)\n",
    "resultKnn = pd.DataFrame(grid2.cv_results_)"
   ]
  },
  {
   "cell_type": "code",
   "execution_count": 24,
   "metadata": {},
   "outputs": [
    {
     "name": "stdout",
     "output_type": "stream",
     "text": [
      "DecisionTreeClassifier(class_weight=None, criterion='gini', max_depth=None,\n",
      "            max_features=None, max_leaf_nodes=None,\n",
      "            min_impurity_decrease=0.0, min_impurity_split=None,\n",
      "            min_samples_leaf=1, min_samples_split=2,\n",
      "            min_weight_fraction_leaf=0.0, presort=False, random_state=None,\n",
      "            splitter='best')\n",
      "model summary                  precision    recall  f1-score   support\n",
      "\n",
      "    Iris-setosa       1.00      1.00      1.00        15\n",
      "Iris-versicolor       0.94      1.00      0.97        16\n",
      " Iris-virginica       1.00      0.93      0.96        14\n",
      "\n",
      "    avg / total       0.98      0.98      0.98        45\n",
      "\n",
      "\n",
      "Confusion Matrix [[15  0  0]\n",
      " [ 0 16  0]\n",
      " [ 0  1 13]]\n",
      "\n",
      "Accuarcy 0.977777777778\n"
     ]
    }
   ],
   "source": [
    "#Fitting data to decision tree with best hyper parameters\n",
    "a = grid2.best_params_\n",
    "modelTreeCv = DecisionTreeClassifier(criterion = a['criterion'],max_depth = a['max_depth'],max_leaf_nodes = a['max_leaf_nodes'],min_samples_leaf = a['min_samples_leaf'],min_samples_split = a['min_samples_split'])\n",
    "modelTreeCv.fit(xTrain, yTrain)\n",
    "print(modelTreeCv)\n",
    "\n",
    "# make predictions\n",
    "expected = yTest\n",
    "predicted = modelTreeCv.predict(xTest)\n",
    "\n",
    "# summarize the fit of the model\n",
    "print(\"model summary\",metrics.classification_report(expected, predicted))\n",
    "print(\"\\nConfusion Matrix\",metrics.confusion_matrix(expected, predicted))\n",
    "print (\"\\nAccuarcy\",accuracy_score(expected, predicted))"
   ]
  },
  {
   "cell_type": "code",
   "execution_count": 32,
   "metadata": {},
   "outputs": [
    {
     "data": {
      "image/png": "[encoded data removed]",
      "text/plain": [
       "<matplotlib.figure.Figure at 0x7f65c0690198>"
      ]
     },
     "metadata": {},
     "output_type": "display_data"
    }
   ],
   "source": [
    "#Validating cv scores\n",
    "from sklearn.cross_validation import cross_val_score\n",
    "validated1 = cross_val_score(knnNew, xTrain, np.array(yTrain).ravel(), cv = 5, scoring = 'accuracy')\n",
    "#print(validated1)\n",
    "\n",
    "validated2 = cross_val_score(modelTreeCv, xTrain, np.array(yTrain).ravel(), cv = 5, scoring = 'accuracy')\n",
    "#print(validated2)\n",
    "\n",
    "plt.boxplot([validated1,validated2])\n",
    "plt.title('CV - KNN/Decision Tree')\n",
    "plt.show()"
   ]
  }
 ],
 "metadata": {
  "kernelspec": {
   "display_name": "Python 3",
   "language": "python",
   "name": "python3"
  },
  "language_info": {
   "codemirror_mode": {
    "name": "ipython",
    "version": 3
   },
   "file_extension": ".py",
   "mimetype": "text/x-python",
   "name": "python",
   "nbconvert_exporter": "python",
   "pygments_lexer": "ipython3",
   "version": "3.6.2"
  }
 },
 "nbformat": 4,
 "nbformat_minor": 2
}
