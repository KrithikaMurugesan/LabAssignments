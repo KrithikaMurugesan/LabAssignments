{
 "cells": [
  {
   "cell_type": "markdown",
   "metadata": {},
   "source": [
    "Bonus: Recommender system using similarity measures"
   ]
  },
  {
   "cell_type": "markdown",
   "metadata": {},
   "source": [
    "Item KNN cosine"
   ]
  },
  {
   "cell_type": "code",
   "execution_count": 1,
   "metadata": {},
   "outputs": [],
   "source": [
    "#Importing packages\n",
    "import pandas as pd\n",
    "import numpy as np\n",
    "import matplotlib.pyplot as plt\n",
    "\n",
    "#Reading the data into pandas df\n",
    "data = pd.read_csv('u.data', header = None, delimiter = '\\t')\n",
    "colsData = ['userId','itemId','rating','timestamp']\n",
    "data.columns = colsData\n",
    "#print(data)\n",
    "\n",
    "item = pd.read_csv('u.item', header = None, delimiter = '|',encoding='latin-1')\n",
    "colsItem = ['itemId','movieTitle','releaseDate','videoReleaseDate','imdbUrl','unknown','Action','Adventure','Animation','Childrens','Comedy','Crime','Documentary','Drama','Fantasy','Film-Noir','Horror','Musical','Mystery','Romance','Sci-Fi','Thriller','War','Western']\n",
    "item.columns = colsItem\n",
    "#print(item.head())\n",
    "\n",
    "user = pd.read_csv('u.user', header = None, delimiter = '|',encoding='latin-1')\n",
    "colsUser = ['userId','age','gender','occupation','zipCode']\n",
    "user.columns = colsUser\n",
    "#print(user.head())"
   ]
  },
  {
   "cell_type": "code",
   "execution_count": 2,
   "metadata": {},
   "outputs": [
    {
     "name": "stdout",
     "output_type": "stream",
     "text": [
      "Item Data\n",
      "\n",
      " ['userId' 'itemId' 'rating' 'timestamp' 'movieTitle' 'releaseDate'\n",
      " 'videoReleaseDate' 'imdbUrl' 'unknown' 'Action' 'Adventure' 'Animation'\n",
      " 'Childrens' 'Comedy' 'Crime' 'Documentary' 'Drama' 'Fantasy' 'Film-Noir'\n",
      " 'Horror' 'Musical' 'Mystery' 'Romance' 'Sci-Fi' 'Thriller' 'War' 'Western']\n"
     ]
    }
   ],
   "source": [
    "#Sampling data\n",
    "dataNew = pd.DataFrame(data.sample(2000,random_state = 123))\n",
    "#print(dataNew.shape)\n",
    "\n",
    "#Joining Item data with base data\n",
    "Item = pd.merge(dataNew,item,on = 'itemId',how = 'inner')\n",
    "print(\"Item Data\\n\\n\",Item.columns.values)"
   ]
  },
  {
   "cell_type": "code",
   "execution_count": 3,
   "metadata": {},
   "outputs": [
    {
     "name": "stdout",
     "output_type": "stream",
     "text": [
      "NA's present in Item :  True\n",
      "NA's present in Item after dropping extra columns :  False\n"
     ]
    }
   ],
   "source": [
    "#Checking for null values\n",
    "print(\"NA's present in Item : \",Item.isnull().any().any())\n",
    "\n",
    "#Removing columns with less relevance, reducing computing cost\n",
    "Item = Item.drop(['userId', 'itemId','movieTitle','releaseDate','videoReleaseDate','imdbUrl','timestamp'],axis = 1)\n",
    "\n",
    "print(\"NA's present in Item after dropping extra columns : \",Item.isnull().any().any())\n",
    "\n",
    "Item['rating'] = pd.to_numeric(Item['rating'])"
   ]
  },
  {
   "cell_type": "code",
   "execution_count": 4,
   "metadata": {},
   "outputs": [],
   "source": [
    "#Seperating into x and y data\n",
    "from sklearn.model_selection import train_test_split\n",
    "\n",
    "x = Item.loc[:,Item.columns != 'rating']\n",
    "y = Item.loc[:,Item.columns == 'rating']\n",
    "\n",
    "itemXTrain, itemXTest, itemYTrain, itemYTest = train_test_split(x, y, test_size=0.30, random_state=1)"
   ]
  },
  {
   "cell_type": "code",
   "execution_count": 5,
   "metadata": {},
   "outputs": [],
   "source": [
    "#Cosine distance\n",
    "def distance(xTrain,yTrain,xTest):\n",
    "    dist,Class = [],[]\n",
    "    for i in range(len(xTrain)):\n",
    "        x = np.array(xTrain.iloc[i])\n",
    "        y = np.array(yTrain.iloc[i])\n",
    "        #print(\"x,y\",x,xTest)\n",
    "        pdt = x.dot(xTest)\n",
    "        mag1 = np.sqrt((x**2).sum())\n",
    "        mag2 = np.sqrt((xTest**2).sum())\n",
    "        similarity = pdt/(mag1*mag2)\n",
    "        #print(\"dist\",similarity,pdt,mag1,mag2)\n",
    "        dist.append(similarity)\n",
    "        Class.append(float(y))\n",
    "    result = pd.DataFrame({'dist': dist,'rating':Class})\n",
    "    return(result)"
   ]
  },
  {
   "cell_type": "code",
   "execution_count": 6,
   "metadata": {},
   "outputs": [],
   "source": [
    "#K Nearest Neighbors\n",
    "def nearestNeighbor(xTrain,yTrain,xTest,k):\n",
    "    predicted = []\n",
    "    for i in range(len(xTest)):\n",
    "        xNew = np.array(xTest.iloc[i])\n",
    "        dis = distance(xTrain,yTrain,xNew)\n",
    "        dis = dis.sort_values(by='dist', ascending=0)\n",
    "        #print(dis)\n",
    "        #Getting values for k nearest neighbors\n",
    "        knn = dis[:k]\n",
    "        #Predicting the values\n",
    "        rate = knn['rating'].mean()\n",
    "        classPredicted = (knn['rating'].value_counts()).sort_values(ascending=False)\n",
    "        predicted.append(float(classPredicted.idxmax()))\n",
    "    return(predicted)"
   ]
  },
  {
   "cell_type": "code",
   "execution_count": 7,
   "metadata": {},
   "outputs": [],
   "source": [
    "#RMSE calculation\n",
    "def accuracy(predicted,yTest):\n",
    "    error = (predicted-yTest)**2\n",
    "    rmse = np.sqrt(error.sum())/len(predicted)\n",
    "    return(float(rmse))"
   ]
  },
  {
   "cell_type": "code",
   "execution_count": 64,
   "metadata": {},
   "outputs": [
    {
     "name": "stdout",
     "output_type": "stream",
     "text": [
      "[31 33 35 37 39 41 43 45 47 49 51 53 55 57 59 61 63 65 67 69 71 73 75 77 79]\n"
     ]
    }
   ],
   "source": [
    "#defining grid values for k\n",
    "kGrid = np.arange(31,80,2)\n",
    "print(kGrid)"
   ]
  },
  {
   "cell_type": "code",
   "execution_count": 9,
   "metadata": {},
   "outputs": [],
   "source": [
    "#returns the test and train data for each fold of cross validation\n",
    "def cvTestTrain(trainA,testFold,totalFolds):\n",
    "    trainCv = pd.DataFrame([])\n",
    "    testCv = pd.DataFrame([])\n",
    "    #Extracting column names\n",
    "    cols = trainA.columns.values\n",
    "    #Removing colunm names\n",
    "    trainA.columns = [''] * len(trainA.columns)\n",
    "    #Data split to folds\n",
    "    batch = np.array_split(trainA,totalFolds)\n",
    "    key = 1\n",
    "    trainDict = {}\n",
    "    #Creating the test fold\n",
    "    for each in batch:\n",
    "        trainDict[key] = each\n",
    "        key = key + 1\n",
    "    testCv = trainDict[testFold]\n",
    "    testCv.columns = cols\n",
    "    #Creating train fold\n",
    "    for key in range(1,6):\n",
    "        if(key != testFold):\n",
    "            trainCv = trainCv.append(trainDict[key])\n",
    "    #Adding the column names to merged train datset\n",
    "    trainCv.columns = cols\n",
    "    return(trainCv,testCv)"
   ]
  },
  {
   "cell_type": "code",
   "execution_count": 10,
   "metadata": {},
   "outputs": [],
   "source": [
    "#CrossValidation\n",
    "def cv(trainCvalid,kGrid,totalFolds):\n",
    "    k,acc = [],[]\n",
    "    #For each k value\n",
    "    for eachK in kGrid:\n",
    "        k.append(eachK)\n",
    "        eachFoldAccuracy = []\n",
    "        #Each fold\n",
    "        for each in range(1,totalFolds+1):\n",
    "            print(each)\n",
    "            trainC = trainCvalid.copy()\n",
    "            #Data split\n",
    "            trainCv,testCv = cvTestTrain(trainC,each,totalFolds)\n",
    "            xTrain = trainCv.loc[:,testCv.columns != 'rating']\n",
    "            yTrain = trainCv.loc[:,testCv.columns == 'rating']\n",
    "            xTest = testCv.loc[:,testCv.columns != 'rating']\n",
    "            yTest = testCv.loc[:,testCv.columns == 'rating']\n",
    "            #Predicting the value\n",
    "            predicted = nearestNeighbor(xTrain,yTrain,xTest,eachK)\n",
    "            accu = accuracy(predicted,yTest['rating'])\n",
    "            eachFoldAccuracy.append(accu)\n",
    "        temp = (np.mean(eachFoldAccuracy))\n",
    "        acc.append(float(temp))\n",
    "    return(k,acc)"
   ]
  },
  {
   "cell_type": "code",
   "execution_count": 22,
   "metadata": {},
   "outputs": [],
   "source": [
    "#Concatenating dataset for cv\n",
    "itemTrain = pd.concat([itemXTrain, itemYTrain], axis=1)\n",
    "itemTest = pd.concat([itemXTest, itemYTest], axis=1)\n",
    "\n",
    "#Cv function\n",
    "k1,rmse1 = cv(itemTrain,kGrid,5) "
   ]
  },
  {
   "cell_type": "code",
   "execution_count": 66,
   "metadata": {
    "scrolled": true
   },
   "outputs": [],
   "source": [
    "#Storing result in a df\n",
    "result = pd.DataFrame({'k' : kGrid,'rmse' : rmse1})\n",
    "\n",
    "#Choosing optimal k with least RMSE\n",
    "optimal = result.iloc[result['rmse'].idxmin()]\n",
    "kOptimal = optimal['k']"
   ]
  },
  {
   "cell_type": "code",
   "execution_count": 67,
   "metadata": {},
   "outputs": [
    {
     "name": "stdout",
     "output_type": "stream",
     "text": [
      "Optimal k :  41.0\n"
     ]
    },
    {
     "data": {
      "image/png": "[encoded data removed]",
      "text/plain": [
       "<matplotlib.figure.Figure at 0x7fb649683f28>"
      ]
     },
     "metadata": {},
     "output_type": "display_data"
    }
   ],
   "source": [
    "#Plotting the results\n",
    "plt.plot(result['k'],result['rmse'],color = 'b',label = \"Rmse\")\n",
    "plt.plot(optimal['k'],optimal['rmse'],'o',color = 'g',label = \"Optimal\")\n",
    "plt.xlabel('k')\n",
    "plt.ylabel('RMSE')\n",
    "plt.title('CrossValidation - RMSE')\n",
    "plt.legend()\n",
    "print(\"Optimal k : \",optimal['k'])\n",
    "plt.show()"
   ]
  },
  {
   "cell_type": "code",
   "execution_count": 68,
   "metadata": {},
   "outputs": [
    {
     "name": "stdout",
     "output_type": "stream",
     "text": [
      "RMSE :  0.052493385826745405\n"
     ]
    }
   ],
   "source": [
    "#Finding RMSE on test set\n",
    "predicted = nearestNeighbor(itemXTrain,itemYTrain,itemXTest,41)\n",
    "accu = accuracy(predicted,itemYTest['rating'])\n",
    "print(\"RMSE : \",accu)"
   ]
  },
  {
   "cell_type": "markdown",
   "metadata": {},
   "source": [
    "User KNN"
   ]
  },
  {
   "cell_type": "code",
   "execution_count": 13,
   "metadata": {
    "scrolled": true
   },
   "outputs": [
    {
     "name": "stdout",
     "output_type": "stream",
     "text": [
      "NA's present in User :  False\n"
     ]
    }
   ],
   "source": [
    "#Sampling data\n",
    "dataNew = pd.DataFrame(data.sample(2100,random_state = 123))\n",
    "#print(dataNew.shape)\n",
    "\n",
    "#Joining User data with base data\n",
    "User = pd.merge(dataNew,user,on = 'userId',how = 'inner')\n",
    "#print(\"\\nUser Data\\n\\n\",User.columns.values)\n",
    "User = User.drop(['userId','itemId','timestamp'],axis =1)\n",
    "\n",
    "print(\"NA's present in User : \",User.isnull().any().any())\n",
    "\n",
    "#Getting index to remove non-numeric zipcodes, as converting to category will increase computational cost tremendously\n",
    "import re\n",
    "need,notNeed = [],[]\n",
    "for each,i in zip(User['zipCode'],range(0,2101)):\n",
    "    check = each.isnumeric()\n",
    "    if check == True:\n",
    "        need.append(i)\n",
    "    else:\n",
    "        notNeed.append(i)\n",
    "        \n",
    "User = User.drop(User.index[notNeed])\n",
    "#print(User['zipCode'].unique())\n",
    "\n",
    "User['zipCode'] = User['zipCode'].astype('float')\n",
    "\n",
    "col = ['age','gender','occupation']\n",
    "for each in col:\n",
    "    User[each] = User[each].astype('category')\n",
    "\n",
    "#Hot-one encoding\n",
    "User = pd.get_dummies(User,drop_first = True)\n",
    "\n",
    "#print(\"\\nUser Data\\n\\n\",User.columns.values)\n",
    "\n"
   ]
  },
  {
   "cell_type": "code",
   "execution_count": 14,
   "metadata": {},
   "outputs": [
    {
     "name": "stderr",
     "output_type": "stream",
     "text": [
      "/home/kritz/anaconda3/envs/scripts/lib/python3.6/site-packages/ipykernel_launcher.py:6: SettingWithCopyWarning: \n",
      "A value is trying to be set on a copy of a slice from a DataFrame.\n",
      "Try using .loc[row_indexer,col_indexer] = value instead\n",
      "\n",
      "See the caveats in the documentation: http://pandas.pydata.org/pandas-docs/stable/indexing.html#indexing-view-versus-copy\n",
      "  \n",
      "/home/kritz/anaconda3/envs/scripts/lib/python3.6/site-packages/ipykernel_launcher.py:7: SettingWithCopyWarning: \n",
      "A value is trying to be set on a copy of a slice from a DataFrame.\n",
      "Try using .loc[row_indexer,col_indexer] = value instead\n",
      "\n",
      "See the caveats in the documentation: http://pandas.pydata.org/pandas-docs/stable/indexing.html#indexing-view-versus-copy\n",
      "  import sys\n"
     ]
    }
   ],
   "source": [
    "#Data x and y split\n",
    "x = User.loc[:,User.columns != 'rating']\n",
    "y = User.loc[:,User.columns == 'rating']\n",
    "\n",
    "userXTrain, userXTest, userYTrain, userYTest = train_test_split(x, y, test_size=0.30, random_state=1)\n",
    "\n",
    "userXTrain['zipCode'] = (userXTrain['zipCode'] - userXTrain['zipCode'].min())/(userXTrain['zipCode'].max()-userXTrain['zipCode'].min())\n",
    "userXTest['zipCode'] = (userXTest['zipCode'] - userXTest['zipCode'].min())/(userXTest['zipCode'].max()-userXTest['zipCode'].min())\n"
   ]
  },
  {
   "cell_type": "code",
   "execution_count": 20,
   "metadata": {},
   "outputs": [],
   "source": [
    "#Concatenating for cv\n",
    "userTrain = pd.concat([userXTrain, userYTrain], axis=1)\n",
    "userTest = pd.concat([userXTest, userYTest], axis=1)\n",
    "#cv\n",
    "k2,rmse2 = cv(userTrain,kGrid,5) "
   ]
  },
  {
   "cell_type": "code",
   "execution_count": 70,
   "metadata": {},
   "outputs": [],
   "source": [
    "#Storing result in df\n",
    "result2 = pd.DataFrame(\n",
    "    {'k' : kGrid,\n",
    "     'rmse' : rmse2})\n",
    "\n",
    "#Choosing optimal k with least RMSE\n",
    "optimal2 = result2.iloc[result2['rmse'].idxmin()]\n",
    "kOptimal2 = optimal2['k']"
   ]
  },
  {
   "cell_type": "code",
   "execution_count": 71,
   "metadata": {},
   "outputs": [
    {
     "name": "stdout",
     "output_type": "stream",
     "text": [
      "Optimal k :  39.0\n"
     ]
    },
    {
     "data": {
      "image/png": "[encoded data removed]",
      "text/plain": [
       "<matplotlib.figure.Figure at 0x7fb6492fb978>"
      ]
     },
     "metadata": {},
     "output_type": "display_data"
    }
   ],
   "source": [
    "#Plotting results\n",
    "import matplotlib.pyplot as plt\n",
    "plt.plot(result2['k'],result2['rmse'],color = 'b',label = \"Rmse\")\n",
    "plt.plot(optimal2['k'],optimal2['rmse'],'o',color = 'g',label = \"Optimal\")\n",
    "plt.xlabel('k')\n",
    "plt.ylabel('RMSE')\n",
    "plt.title('CrossValidation - RMSE')\n",
    "plt.legend()\n",
    "print(\"Optimal k : \",optimal2['k'])\n",
    "plt.show()"
   ]
  },
  {
   "cell_type": "code",
   "execution_count": 72,
   "metadata": {},
   "outputs": [
    {
     "name": "stdout",
     "output_type": "stream",
     "text": [
      "RMSE :  0.049213396483773236\n"
     ]
    }
   ],
   "source": [
    "#Computing RMSE on test data\n",
    "predicted = nearestNeighbor(userXTrain,userYTrain,userXTest,39)\n",
    "accu = accuracy(predicted,userYTest['rating'])\n",
    "print(\"RMSE : \",accu)"
   ]
  }
 ],
 "metadata": {
  "kernelspec": {
   "display_name": "Python 3",
   "language": "python",
   "name": "python3"
  },
  "language_info": {
   "codemirror_mode": {
    "name": "ipython",
    "version": 3
   },
   "file_extension": ".py",
   "mimetype": "text/x-python",
   "name": "python",
   "nbconvert_exporter": "python",
   "pygments_lexer": "ipython3",
   "version": "3.6.2"
  }
 },
 "nbformat": 4,
 "nbformat_minor": 2
}
