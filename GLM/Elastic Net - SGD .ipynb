{
 "cells": [
  {
   "cell_type": "code",
   "execution_count": 1,
   "metadata": {},
   "outputs": [
    {
     "name": "stdout",
     "output_type": "stream",
     "text": [
      "wineRed\n",
      "\n",
      "        fixed acidity  volatile acidity  citric acid  residual sugar  \\\n",
      "count    1599.000000       1599.000000  1599.000000     1599.000000   \n",
      "mean        8.319637          0.527821     0.270976        2.538806   \n",
      "std         1.741096          0.179060     0.194801        1.409928   \n",
      "min         4.600000          0.120000     0.000000        0.900000   \n",
      "25%         7.100000          0.390000     0.090000        1.900000   \n",
      "50%         7.900000          0.520000     0.260000        2.200000   \n",
      "75%         9.200000          0.640000     0.420000        2.600000   \n",
      "max        15.900000          1.580000     1.000000       15.500000   \n",
      "\n",
      "         chlorides  free sulfur dioxide  total sulfur dioxide      density  \\\n",
      "count  1599.000000          1599.000000           1599.000000  1599.000000   \n",
      "mean      0.087467            15.874922             46.467792     0.996747   \n",
      "std       0.047065            10.460157             32.895324     0.001887   \n",
      "min       0.012000             1.000000              6.000000     0.990070   \n",
      "25%       0.070000             7.000000             22.000000     0.995600   \n",
      "50%       0.079000            14.000000             38.000000     0.996750   \n",
      "75%       0.090000            21.000000             62.000000     0.997835   \n",
      "max       0.611000            72.000000            289.000000     1.003690   \n",
      "\n",
      "                pH    sulphates      alcohol      quality  \n",
      "count  1599.000000  1599.000000  1599.000000  1599.000000  \n",
      "mean      3.311113     0.658149    10.422983     5.636023  \n",
      "std       0.154386     0.169507     1.065668     0.807569  \n",
      "min       2.740000     0.330000     8.400000     3.000000  \n",
      "25%       3.210000     0.550000     9.500000     5.000000  \n",
      "50%       3.310000     0.620000    10.200000     6.000000  \n",
      "75%       3.400000     0.730000    11.100000     6.000000  \n",
      "max       4.010000     2.000000    14.900000     8.000000  \n"
     ]
    }
   ],
   "source": [
    "import pandas as pd\n",
    "import numpy as np\n",
    "import matplotlib.pyplot as plt\n",
    "\n",
    "wineRed = pd.read_csv('winequality-red .csv',header = 0,delimiter = ';')\n",
    "\n",
    "print(\"wineRed\\n\\n\",wineRed.describe())\n"
   ]
  },
  {
   "cell_type": "code",
   "execution_count": 2,
   "metadata": {},
   "outputs": [
    {
     "name": "stdout",
     "output_type": "stream",
     "text": [
      "NA's present :  False\n"
     ]
    }
   ],
   "source": [
    "#Checking for na values in any rows\n",
    "print(\"NA's present : \",wineRed.isnull().any().any())"
   ]
  },
  {
   "cell_type": "code",
   "execution_count": 3,
   "metadata": {},
   "outputs": [
    {
     "name": "stdout",
     "output_type": "stream",
     "text": [
      "Red Wine\n",
      "\n",
      "Train shape :  (1229, 12) \n",
      "Test shape :  (370, 12)\n"
     ]
    }
   ],
   "source": [
    "#3. Split the data into test and train\n",
    "#Generate a random list of true and false and assign train and test based on those values\n",
    "redSplit = np.random.rand(wineRed.shape[0]) < 0.8\n",
    "#Assign train to true\n",
    "trainRed = wineRed[redSplit]\n",
    "#Assign test to false\n",
    "testRed = wineRed[~redSplit]\n",
    "\n",
    "print(\"Red Wine\\n\")\n",
    "print(\"Train shape : \",trainRed.shape,\"\\nTest shape : \",testRed.shape)\n",
    "\n",
    "#RedWine\n",
    "xTrain = trainRed.loc[:,trainRed.columns != 'quality']\n",
    "yTrain = trainRed.loc[:,trainRed.columns == 'quality']\n",
    "xTest = testRed.loc[:,testRed.columns != 'quality']\n",
    "yTest = testRed.loc[:,testRed.columns == 'quality']"
   ]
  },
  {
   "cell_type": "markdown",
   "metadata": {},
   "source": [
    "#Normalizing the data\n",
    "for each in xTrain.columns.values:\n",
    "    xTrain[each] = (xTrain[each] - xTrain[each].min())/(xTrain[each].max()-xTrain[each].min())\n",
    "    \n",
    "for each in xTest.columns.values:\n",
    "    xTest[each] = (xTest[each] - xTest[each].min())/(xTest[each].max()-xTest[each].min())"
   ]
  },
  {
   "cell_type": "code",
   "execution_count": 4,
   "metadata": {},
   "outputs": [],
   "source": [
    "#Adding y data to train dataset, to avoid mismatch during shuffling\n",
    "train = xTrain.copy()\n",
    "train['quality'] = yTrain\n",
    "#print(train)"
   ]
  },
  {
   "cell_type": "code",
   "execution_count": 5,
   "metadata": {},
   "outputs": [],
   "source": [
    "#Shuffling the data each time mini-batch is called and splitting into respective train ans test data\n",
    "def shuffleAndSplit(trainS,splits):\n",
    "    trainS.sample(frac=1)\n",
    "    batch = np.array_split(trainS, splits)\n",
    "    return(batch)"
   ]
  },
  {
   "cell_type": "code",
   "execution_count": 6,
   "metadata": {},
   "outputs": [],
   "source": [
    "#Loss function\n",
    "def loss(x,y,beta,r1,r2):\n",
    "    yPredicted = np.array(x.dot(beta))\n",
    "    l2 = 2*r1*((beta.T.dot(beta)).sum())\n",
    "    l1 = r2*(np.abs(beta).sum())\n",
    "    leastSquareLoss = (np.square(y-yPredicted)).sum()\n",
    "    return(leastSquareLoss+l1+l2)"
   ]
  },
  {
   "cell_type": "code",
   "execution_count": 7,
   "metadata": {},
   "outputs": [],
   "source": [
    "#Splitting data to trian and test\n",
    "def trainSplit(trainSp):\n",
    "    x = trainSp.loc[:,trainSp.columns != 'quality']\n",
    "    #x = np.column_stack([x,np.ones(len(x))])\n",
    "    y = trainSp.loc[:,trainSp.columns == 'quality']\n",
    "    return(x,y)"
   ]
  },
  {
   "cell_type": "code",
   "execution_count": 8,
   "metadata": {},
   "outputs": [],
   "source": [
    "#gradient\n",
    "def gradient(x,y,beta,r1,r2):\n",
    "    loss = 2 *(x.T.dot(y - np.matmul(x,beta)))\n",
    "    l2 = 2*r1*beta\n",
    "    l1 = (r2)\n",
    "    #print(\"gradient\",r1+r2)\n",
    "    return(loss+l1+l2)"
   ]
  },
  {
   "cell_type": "code",
   "execution_count": 9,
   "metadata": {},
   "outputs": [],
   "source": [
    "#Mini batch Gradient Descent\n",
    "def mini_BGD(trainGd,beta,xTest,yTest,alpha,r1,r2,batchsize,epoch):\n",
    "    #beta = np.random.rand(trainGd.shape[1]-1,1)\n",
    "    rmse,ii,rmseTest = [],[],[]\n",
    "    #loop for epochs\n",
    "    for each in range(epoch):\n",
    "        minibatch = shuffleAndSplit(trainGd,int(trainGd.shape[0]/batchsize))\n",
    "        #Loop for batches\n",
    "        for every in minibatch:\n",
    "            x,y = trainSplit(every)\n",
    "            lossOld = loss(x,y,beta,r1,r2)\n",
    "            betaNew = beta - alpha*-gradient(x,y,beta,r1,r2)\n",
    "            lossNew = loss(x,y,betaNew,r1,r2)\n",
    "            #alpha = boldDriver(alpha,lossOld,lossNew)\n",
    "            if float(lossOld-lossNew) < 0.00001:\n",
    "                #print(\"Optimal beta found : \\n\",betaNew)\n",
    "                break\n",
    "            if each == epoch :\n",
    "                print(\"Did not converge\")\n",
    "            beta = betaNew\n",
    "            #print(lossOld-lossNew)\n",
    "        ii.append(each)\n",
    "        rmse.append(np.sqrt(lossNew/xTrain.shape[0]))\n",
    "        temp = loss(xTest,yTest,beta,r1,r2)\n",
    "        rmseTest.append(np.sqrt(temp/xTest.shape[0]))\n",
    "    return (ii,rmse,rmseTest)"
   ]
  },
  {
   "cell_type": "code",
   "execution_count": 42,
   "metadata": {},
   "outputs": [],
   "source": [
    "beta = np.random.rand(train.shape[1]-1,1)"
   ]
  },
  {
   "cell_type": "code",
   "execution_count": 43,
   "metadata": {
    "scrolled": true
   },
   "outputs": [],
   "source": [
    "ii_1,rmse_1,rmseTest_1 = mini_BGD(train,beta,xTest,yTest,0.00000001,100,100,50,100)"
   ]
  },
  {
   "cell_type": "code",
   "execution_count": 44,
   "metadata": {},
   "outputs": [],
   "source": [
    "ii_2,rmse_2,rmseTest_2 = mini_BGD(train,beta,xTest,yTest,0.00000001,1e-50,1e-50,50,100)"
   ]
  },
  {
   "cell_type": "code",
   "execution_count": 45,
   "metadata": {},
   "outputs": [],
   "source": [
    "ii_3,rmse_3,rmseTest_3 = mini_BGD(train,beta,xTest,yTest,0.00000001,100,0,50,100)"
   ]
  },
  {
   "cell_type": "code",
   "execution_count": 46,
   "metadata": {},
   "outputs": [],
   "source": [
    "ii_4,rmse_4,rmseTest_4 = mini_BGD(train,beta,xTest,yTest,0.00000001,0,100,50,100)"
   ]
  },
  {
   "cell_type": "code",
   "execution_count": 47,
   "metadata": {},
   "outputs": [
    {
     "data": {
      "image/png": "[encoded data removed]",
      "text/plain": [
       "<matplotlib.figure.Figure at 0x7f2ab0d6b048>"
      ]
     },
     "metadata": {},
     "output_type": "display_data"
    }
   ],
   "source": [
    "plt.plot(ii_1,rmse_1,color = 'b',label = 'High values')\n",
    "plt.plot(ii_2,rmse_2,color = 'r',label = 'small values')\n",
    "plt.plot(ii_3,rmse_3,color = 'g',label = 'l2')\n",
    "#plt.show()\n",
    "plt.plot(ii_4,rmse_4,color = 'black',label = 'l1')\n",
    "plt.legend()\n",
    "plt.xlabel('Epoch')\n",
    "plt.ylabel('Train RMSE')\n",
    "plt.show()"
   ]
  },
  {
   "cell_type": "code",
   "execution_count": 48,
   "metadata": {},
   "outputs": [
    {
     "data": {
      "image/png": "[encoded data removed]",
      "text/plain": [
       "<matplotlib.figure.Figure at 0x7f2ab0b13550>"
      ]
     },
     "metadata": {},
     "output_type": "display_data"
    }
   ],
   "source": [
    "plt.plot(ii_1,rmseTest_1,color = 'b',label = 'High values')\n",
    "plt.plot(ii_2,rmseTest_2,color = 'r',label = 'small values')\n",
    "plt.plot(ii_3,rmseTest_3,color = 'g',label = 'l2')\n",
    "plt.plot(ii_4,rmseTest_4,color = 'black',label = 'l1')\n",
    "plt.legend()\n",
    "plt.xlabel('Epoch')\n",
    "plt.ylabel('Test RMSE')\n",
    "plt.show()"
   ]
  },
  {
   "cell_type": "markdown",
   "metadata": {},
   "source": [
    "Hyper-parameter tuning and Cross validation"
   ]
  },
  {
   "cell_type": "code",
   "execution_count": 17,
   "metadata": {},
   "outputs": [
    {
     "name": "stdout",
     "output_type": "stream",
     "text": [
      "Alpha Grid :  [ 0.0001  0.0003  0.0005  0.0007  0.0009  0.0011  0.0013  0.0015  0.0017\n",
      "  0.0019]\n",
      "\n",
      "\n",
      "L1 :  [ 0.1  0.2  0.3  0.4  0.5  0.6  0.7  0.8  0.9]\n",
      "\n",
      "\n",
      "L2 :  [ 0.1  0.2  0.3  0.4  0.5  0.6  0.7  0.8  0.9]\n"
     ]
    }
   ],
   "source": [
    "#defining grid values for alpha and lambda\n",
    "#alphaGrid = np.arange(0.0001, 0.0004, 0.0002)\n",
    "#l2 = np.arange(0.1,0.3,0.1)\n",
    "#l1 = np.arange(0.1,0.3,0.1)\n",
    "\n",
    "alphaGrid = np.arange(0.0001, 0.0021, 0.0002)\n",
    "l2 = np.arange(0.1,1,0.1)\n",
    "l1 = np.arange(0.1,1,0.1)\n",
    "print(\"Alpha Grid : \",alphaGrid)\n",
    "print(\"\\n\\nL1 : \",l1)\n",
    "print(\"\\n\\nL2 : \",l2)"
   ]
  },
  {
   "cell_type": "code",
   "execution_count": 18,
   "metadata": {},
   "outputs": [],
   "source": [
    "#returns the test and train data for each fold of cross validation\n",
    "def cvTestTrain(trainA,testFold,totalFolds):\n",
    "    trainCv = pd.DataFrame([])\n",
    "    testCv = pd.DataFrame([])\n",
    "    #Extracting column names\n",
    "    cols = trainA.columns.values\n",
    "    #Removing colunm names\n",
    "    trainA.columns = [''] * len(trainA.columns)\n",
    "    #Data split to folds\n",
    "    batch = np.array_split(trainA,totalFolds)\n",
    "    key = 1\n",
    "    trainDict = {}\n",
    "    #Creating the test fold\n",
    "    for each in batch:\n",
    "        trainDict[key] = each\n",
    "        key = key + 1\n",
    "    testCv = trainDict[testFold]\n",
    "    testCv.columns = cols\n",
    "    #Creating train fold\n",
    "    for key in range(1,6):\n",
    "        if(key != testFold):\n",
    "            trainCv = trainCv.append(trainDict[key])\n",
    "    #Adding the column names to merged train datset\n",
    "    trainCv.columns = cols\n",
    "    return(trainCv,testCv)"
   ]
  },
  {
   "cell_type": "code",
   "execution_count": 21,
   "metadata": {},
   "outputs": [],
   "source": [
    "#CrossValidation\n",
    "def cv(trainCvalid,alphaGrid,l1,l2,totalFolds,batchsize,epoch):\n",
    "    alpha,l1List,l2List,rmseCv = [],[],[],[]\n",
    "    for eachAlpha in alphaGrid:\n",
    "        for eachL1 in l1:\n",
    "            for eachL2 in l2:\n",
    "                alpha.append(eachAlpha)\n",
    "                l1List.append(eachL1)\n",
    "                l2List.append(eachL2)\n",
    "                eachFoldRmse = []\n",
    "                for each in range(1,totalFolds+1):\n",
    "                    trainC = trainCvalid.copy()\n",
    "                    trainCv,testCv = cvTestTrain(trainC,each,totalFolds)\n",
    "                    xTest = testRed.loc[:,testCv.columns != 'quality']\n",
    "                    yTest = testRed.loc[:,testCv.columns == 'quality']\n",
    "                    ii,rmse,rmseTest = mini_BGD(trainCv,beta,xTest,yTest,eachAlpha,eachL2,eachL1,batchsize,epoch)\n",
    "                    eachFoldRmse.append(np.mean(rmseTest))\n",
    "                temp = (np.mean(eachFoldRmse))\n",
    "                rmseCv.append(float(temp))\n",
    "    return(alpha,l1List,l2List,rmseCv)"
   ]
  },
  {
   "cell_type": "code",
   "execution_count": 22,
   "metadata": {},
   "outputs": [],
   "source": [
    "alpha1,l11,l21,rmse1 = cv(train,alphaGrid,l1,l2,5,50,100)"
   ]
  },
  {
   "cell_type": "code",
   "execution_count": 24,
   "metadata": {},
   "outputs": [],
   "source": [
    "#Stroring the alpha, lamda and rmse values in df\n",
    "result = pd.DataFrame(\n",
    "    {'alpha': alpha1,\n",
    "     'l1': l11,\n",
    "     'l2': l21,\n",
    "     'rmse':rmse1\n",
    "    })\n"
   ]
  },
  {
   "cell_type": "code",
   "execution_count": 26,
   "metadata": {},
   "outputs": [
    {
     "name": "stdout",
     "output_type": "stream",
     "text": [
      "Optimal alpha :  0.0001 \n",
      "Optimal l1 :  0.1 \n",
      "Optimal l2 :  0.1\n"
     ]
    }
   ],
   "source": [
    "#Choosing optimal alpha and lamda with least RMSE\n",
    "optimal = result.iloc[result['rmse'].idxmin()]\n",
    "alphaOptimal = optimal['alpha']\n",
    "l1Optimal = optimal['l1']\n",
    "l2Optimal = optimal['l2']\n",
    "print(\"Optimal alpha : \",alphaOptimal,\"\\nOptimal l1 : \",l1Optimal,\"\\nOptimal l2 : \",l2Optimal)"
   ]
  }
 ],
 "metadata": {
  "kernelspec": {
   "display_name": "Python 3",
   "language": "python",
   "name": "python3"
  },
  "language_info": {
   "codemirror_mode": {
    "name": "ipython",
    "version": 3
   },
   "file_extension": ".py",
   "mimetype": "text/x-python",
   "name": "python",
   "nbconvert_exporter": "python",
   "pygments_lexer": "ipython3",
   "version": "3.6.2"
  }
 },
 "nbformat": 4,
 "nbformat_minor": 2
}
