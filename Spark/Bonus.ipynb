{
 "cells": [
  {
   "cell_type": "code",
   "execution_count": 1,
   "metadata": {},
   "outputs": [],
   "source": [
    "from pyspark import SparkContext\n",
    "from pyspark.sql import SQLContext\n",
    "import pandas as pd\n",
    "\n",
    "sc = SparkContext()\n",
    "sqlContext = SQLContext(sc)\n",
    "\n",
    "movie = pd.read_csv(r'/home/kritz/Documents/DDL/Ex09/movies.csv')\n",
    "rating = pd.read_csv(r'/home/kritz/Documents/DDL/Ex09/ratings.csv')"
   ]
  },
  {
   "cell_type": "code",
   "execution_count": 6,
   "metadata": {},
   "outputs": [],
   "source": [
    "movie['title']= movie['title'].astype(str)\n",
    "movie['genres']= movie['genres'].astype(str)\n",
    "\n",
    "movie = sqlContext.createDataFrame(movie)\n",
    "rating = sqlContext.createDataFrame(rating)"
   ]
  },
  {
   "cell_type": "code",
   "execution_count": 10,
   "metadata": {},
   "outputs": [
    {
     "name": "stdout",
     "output_type": "stream",
     "text": [
      "+-------+--------------+------+------+------+----------+\n",
      "|movieId|         title|genres|userId|rating| timestamp|\n",
      "+-------+--------------+------+------+------+----------+\n",
      "|     26|Othello (1995)| Drama|     9|   3.0| 938628655|\n",
      "|     26|Othello (1995)| Drama|    70|   5.0| 853954729|\n",
      "|     26|Othello (1995)| Drama|    86|   4.0| 848160245|\n",
      "|     26|Othello (1995)| Drama|   119|   5.0| 913117867|\n",
      "|     26|Othello (1995)| Drama|   294|   3.5|1082754003|\n",
      "+-------+--------------+------+------+------+----------+\n",
      "only showing top 5 rows\n",
      "\n"
     ]
    }
   ],
   "source": [
    "data = movie.join(rating, \"movieId\" ,\"inner\")\n",
    "data.show(5)"
   ]
  },
  {
   "cell_type": "code",
   "execution_count": 14,
   "metadata": {},
   "outputs": [
    {
     "name": "stdout",
     "output_type": "stream",
     "text": [
      "+--------------------+------+\n",
      "|               title|rating|\n",
      "+--------------------+------+\n",
      "|      Othello (1995)|   3.0|\n",
      "|      Othello (1995)|   5.0|\n",
      "|      Othello (1995)|   4.0|\n",
      "|      Othello (1995)|   5.0|\n",
      "|      Othello (1995)|   3.5|\n",
      "|City of Lost Chil...|   4.5|\n",
      "|City of Lost Chil...|   3.0|\n",
      "|City of Lost Chil...|   4.0|\n",
      "|City of Lost Chil...|   4.0|\n",
      "|City of Lost Chil...|   4.0|\n",
      "+--------------------+------+\n",
      "only showing top 10 rows\n",
      "\n"
     ]
    }
   ],
   "source": [
    "columns_to_drop = ['movieId', 'genres','userId','timestamp']\n",
    "test = data.drop(*columns_to_drop)\n",
    "test.show(10)"
   ]
  },
  {
   "cell_type": "code",
   "execution_count": 39,
   "metadata": {},
   "outputs": [
    {
     "name": "stdout",
     "output_type": "stream",
     "text": [
      "('Even Dwarfs Started Small (Auch Zwerge haben klein angefangen) (1971)', 5.0)\n"
     ]
    }
   ],
   "source": [
    "final = test.rdd.groupByKey().mapValues(lambda x: sum(x) / len(x)).max(key=lambda x:x[1])\n",
    "print(final)"
   ]
  },
  {
   "cell_type": "code",
   "execution_count": 44,
   "metadata": {},
   "outputs": [],
   "source": [
    "from pyspark.sql.functions import countDistinct\n",
    "df = data.groupby('userId').agg(countDistinct(\"movieId\"))\n",
    "filtered = df.filter(df['count(DISTINCT movieId)'] > 40)"
   ]
  },
  {
   "cell_type": "code",
   "execution_count": 48,
   "metadata": {},
   "outputs": [
    {
     "name": "stdout",
     "output_type": "stream",
     "text": [
      "+------+------+\n",
      "|userId|rating|\n",
      "+------+------+\n",
      "|    26|   4.0|\n",
      "|    26|   2.0|\n",
      "|    26|   2.0|\n",
      "|    26|   3.0|\n",
      "|    26|   3.5|\n",
      "|    26|   3.5|\n",
      "|    26|   4.0|\n",
      "|    26|   2.0|\n",
      "|    26|   3.0|\n",
      "|    26|   4.0|\n",
      "|    26|   4.0|\n",
      "|    26|   3.5|\n",
      "|    26|   5.0|\n",
      "|    26|   4.5|\n",
      "|    26|   3.0|\n",
      "|    26|   3.0|\n",
      "|    26|   3.5|\n",
      "|    26|   4.5|\n",
      "|    26|   3.5|\n",
      "|    26|   3.5|\n",
      "+------+------+\n",
      "only showing top 20 rows\n",
      "\n"
     ]
    }
   ],
   "source": [
    "newData = data.join(filtered, \"userId\" ,\"inner\")\n",
    "columns_to_drop = ['movieId','title','genres','count(DISTINCT movieId)','timestamp']\n",
    "newData = newData.drop(*columns_to_drop)\n",
    "newData.show()"
   ]
  },
  {
   "cell_type": "code",
   "execution_count": 49,
   "metadata": {},
   "outputs": [
    {
     "name": "stdout",
     "output_type": "stream",
     "text": [
      "(581, 1.4591836734693877)\n"
     ]
    }
   ],
   "source": [
    "user = newData.rdd.groupByKey().mapValues(lambda x: sum(x) / len(x)).min(key=lambda x:x[1])\n",
    "print(user)"
   ]
  },
  {
   "cell_type": "code",
   "execution_count": 50,
   "metadata": {},
   "outputs": [
    {
     "name": "stdout",
     "output_type": "stream",
     "text": [
      "+--------------------+------+\n",
      "|              genres|rating|\n",
      "+--------------------+------+\n",
      "|               Drama|   3.0|\n",
      "|               Drama|   5.0|\n",
      "|               Drama|   4.0|\n",
      "|               Drama|   5.0|\n",
      "|               Drama|   3.5|\n",
      "|Adventure|Drama|F...|   4.5|\n",
      "|Adventure|Drama|F...|   3.0|\n",
      "|Adventure|Drama|F...|   4.0|\n",
      "|Adventure|Drama|F...|   4.0|\n",
      "|Adventure|Drama|F...|   4.0|\n",
      "|Adventure|Drama|F...|   5.0|\n",
      "|Adventure|Drama|F...|   5.0|\n",
      "|Adventure|Drama|F...|   3.0|\n",
      "|Adventure|Drama|F...|   5.0|\n",
      "|Adventure|Drama|F...|   3.5|\n",
      "|Adventure|Drama|F...|   2.5|\n",
      "|Adventure|Drama|F...|   5.0|\n",
      "|Adventure|Drama|F...|   5.0|\n",
      "|Adventure|Drama|F...|   4.0|\n",
      "|Adventure|Drama|F...|   5.0|\n",
      "+--------------------+------+\n",
      "only showing top 20 rows\n",
      "\n"
     ]
    }
   ],
   "source": [
    "columns_to_drop = ['movieId', 'title','userId','timestamp']\n",
    "genre = data.drop(*columns_to_drop)\n",
    "genre.show()"
   ]
  },
  {
   "cell_type": "code",
   "execution_count": 51,
   "metadata": {},
   "outputs": [
    {
     "name": "stdout",
     "output_type": "stream",
     "text": [
      "('Action|Comedy|Drama|Romance', 5.0)\n"
     ]
    }
   ],
   "source": [
    "movieGenre = genre.rdd.groupByKey().mapValues(lambda x: sum(x) / len(x)).max(key=lambda x:x[1])\n",
    "print(movieGenre)"
   ]
  }
 ],
 "metadata": {
  "kernelspec": {
   "display_name": "Python 3",
   "language": "python",
   "name": "python3"
  },
  "language_info": {
   "codemirror_mode": {
    "name": "ipython",
    "version": 3
   },
   "file_extension": ".py",
   "mimetype": "text/x-python",
   "name": "python",
   "nbconvert_exporter": "python",
   "pygments_lexer": "ipython3",
   "version": "3.6.5"
  }
 },
 "nbformat": 4,
 "nbformat_minor": 2
}
